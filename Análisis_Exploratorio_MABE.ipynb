{
  "nbformat": 4,
  "nbformat_minor": 0,
  "metadata": {
    "colab": {
      "name": "Análisis Exploratorio MABE.ipynb",
      "provenance": [],
      "collapsed_sections": [],
      "mount_file_id": "1TnxndiMkHZJolLfxneXU1Ir6kl0EDjPz",
      "authorship_tag": "ABX9TyMgmkGsxpusu005CnGVZmPC",
      "include_colab_link": true
    },
    "kernelspec": {
      "name": "python3",
      "display_name": "Python 3"
    },
    "language_info": {
      "name": "python"
    }
  },
  "cells": [
    {
      "cell_type": "markdown",
      "metadata": {
        "id": "view-in-github",
        "colab_type": "text"
      },
      "source": [
        "<a href=\"https://colab.research.google.com/github/alexanderaceroc/Pandas/blob/main/An%C3%A1lisis_Exploratorio_MABE.ipynb\" target=\"_parent\"><img src=\"https://colab.research.google.com/assets/colab-badge.svg\" alt=\"Open In Colab\"/></a>"
      ]
    },
    {
      "cell_type": "markdown",
      "metadata": {
        "id": "WwB424mDQDmF"
      },
      "source": [
        "**Analisis Exploratorio de Datos MABE**\n",
        "\n",
        "C**ategorías: Lavadoras, Estufas y Refrigeradores**"
      ]
    },
    {
      "cell_type": "markdown",
      "metadata": {
        "id": "evES9LGaQZiz"
      },
      "source": [
        "El siguiente Dataframe que contiene información de Inversión real, Ventas y variables de Tracking. La Inversión real se obtiene de Maximaster, ventas calculada con datos anuales de Euromonitor y poderada para calculo mensual basada en inversión general de la categoría, los datos de Tracking son obtenidos del estudio entregado por Kantar. El histórico esta comprendido entre marzo de 2018 a septiembre de 2021."
      ]
    },
    {
      "cell_type": "code",
      "metadata": {
        "colab": {
          "base_uri": "https://localhost:8080/"
        },
        "id": "vTvH6UKPQML2",
        "outputId": "eb786d57-6191-4991-deb8-5ad4fa3eea2d"
      },
      "source": [
        "#Pandas es una librería de Python especializada en el manejo y análisis de estructuras de datos.\n",
        "import pandas as pd\n",
        "\n",
        "url = 'https://raw.githubusercontent.com/alexanderaceroc/Mabe/main/DataSetMabe.csv?token=AVL6VSKXTEWTSM7RBEB7VRDBRMFJG'\n",
        "df = pd.read_csv(url)\n",
        "print(df.head(50))"
      ],
      "execution_count": 8,
      "outputs": [
        {
          "output_type": "stream",
          "name": "stdout",
          "text": [
            "    Año_mes  VENTAS_LAV  VENTAS_REF  ...  RECOM_LAV  RECOM_REF  RECOM_COC\n",
            "0   2018-03        3811         439  ...        7.3        7.5        7.9\n",
            "1   2018-04        1318         327  ...        7.3        7.5        7.9\n",
            "2   2018-05       10087       17174  ...        7.3        7.5        7.9\n",
            "3   2018-06        8433       23034  ...        7.3        7.5        7.9\n",
            "4   2018-07        3958        2330  ...        7.3        7.5        7.9\n",
            "5   2018-08         383        1779  ...        7.3        7.5        7.9\n",
            "6   2018-09       15268       16328  ...        7.3        7.5        7.9\n",
            "7   2018-10       12446       14644  ...        7.3        7.5        7.9\n",
            "8   2018-11           0        9627  ...        7.3        7.5        7.9\n",
            "9   2018-12        1089        2240  ...        7.3        7.5        7.9\n",
            "10  2019-01        9053        6910  ...        8.0        7.7        8.2\n",
            "11  2019-02        3623        9429  ...        8.0        7.7        8.2\n",
            "12  2019-03         308        2698  ...        8.0        7.7        8.2\n",
            "13  2019-04       12793       36323  ...        8.0        7.7        8.2\n",
            "14  2019-05       15058       98957  ...        8.0        7.7        8.2\n",
            "15  2019-06           0       12857  ...        8.0        7.7        8.2\n",
            "16  2019-07        8276        7059  ...        8.0        7.7        8.2\n",
            "17  2019-08         983       14269  ...        8.0        7.7        8.2\n",
            "18  2019-09       10068       17512  ...        8.0        7.7        8.2\n",
            "19  2019-10       16738       15403  ...        8.0        7.7        8.2\n",
            "20  2019-11        3032       11033  ...        8.0        7.7        8.2\n",
            "21  2019-12         169         348  ...        8.0        7.7        8.2\n",
            "22  2020-01         301        1785  ...        8.1        8.1        8.2\n",
            "23  2020-02        6882       21071  ...        8.1        8.1        8.2\n",
            "24  2020-03           0           0  ...        8.1        8.1        8.2\n",
            "25  2020-04           0           0  ...        8.1        8.1        8.2\n",
            "26  2020-05        2562           0  ...        8.1        8.1        8.2\n",
            "27  2020-06        1721        4789  ...        8.1        8.1        8.2\n",
            "28  2020-07        1245           0  ...        8.1        8.1        8.2\n",
            "29  2020-08           0           0  ...        8.1        8.1        8.2\n",
            "30  2020-09       18551        4395  ...        8.1        8.1        8.2\n",
            "31  2020-10       17742      101454  ...        8.1        8.1        8.2\n",
            "32  2020-11       20244      131340  ...        8.1        8.1        8.2\n",
            "33  2020-12       13252       24966  ...        8.1        8.1        8.2\n",
            "34  2021-01        1049        6936  ...        8.6        8.4        8.4\n",
            "35  2021-02        2490       13597  ...        8.6        8.4        8.4\n",
            "36  2021-03        4630       15146  ...        8.6        8.4        8.4\n",
            "37  2021-04        7414       32217  ...        8.6        8.4        8.4\n",
            "38  2021-05       13469       59028  ...        8.6        8.4        8.4\n",
            "39  2021-06       17407       30183  ...        8.6        8.4        8.4\n",
            "40  2021-07        6707       16049  ...        8.6        8.4        8.4\n",
            "41  2021-08       12691       49177  ...        8.6        8.4        8.4\n",
            "42  2021-09        6458       19295  ...        8.6        8.4        8.4\n",
            "43  2021-10        9009       33991  ...        8.6        8.4        8.4\n",
            "\n",
            "[44 rows x 21 columns]\n"
          ]
        }
      ]
    }
  ]
}